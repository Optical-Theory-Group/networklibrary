{
 "cells": [
  {
   "cell_type": "markdown",
   "metadata": {},
   "source": [
    "This example book will show how to run the generate ensemble function to generate the scattering matrices and write them a hdf5 file"
   ]
  },
  {
   "cell_type": "code",
   "execution_count": 5,
   "metadata": {},
   "outputs": [],
   "source": [
    "# Importing the necessary libraries\n",
    "from complex_network.networks.network_spec import NetworkSpec\n",
    "from complex_network.networks.network_factory import generate_network\n",
    "\n",
    "# Importing the scattering ensemble function\n",
    "from complex_network.scattering_ensemble import generate_scattering_ensemble"
   ]
  },
  {
   "cell_type": "code",
   "execution_count": 6,
   "metadata": {},
   "outputs": [],
   "source": [
    "# define the network parameters using the network spec data class\n",
    "network_spec = NetworkSpec(network_type='delaunay',\n",
    "                           network_shape='circular',\n",
    "                           random_seed=0,\n",
    "                           num_internal_nodes=30,\n",
    "                           num_external_nodes=10,\n",
    "                           num_seed_nodes=None,\n",
    "                           network_size=200e-6,\n",
    "                           external_size=250e-6,\n",
    "                           external_offset=0.0)"
   ]
  },
  {
   "cell_type": "code",
   "execution_count": 7,
   "metadata": {},
   "outputs": [],
   "source": [
    "# We can generate the ensemble of scatetring matrices and write them to a hdf5 file using the scattering ensemble function\n",
    "hdf5_filename = '/home/baruva/Sacttering_Data/scattering_ensemble_del_circ_30_10.h5' # name of the hdf5 file to write the scattering matrices to\n",
    "total_tasks = 10000                         # number of scattering matrices to generate\n",
    "k0 = 1.0                                   # wavenumber of the incident field\n",
    "matrix_type = 'ee'                         # type of scattering matrix to generate (ee, ei or full)\n",
    "network_config = network_spec              # network configuration to use\n",
    "num_workers = None                         # number of workers to use for parallel processing (None uses all available cores)"
   ]
  },
  {
   "cell_type": "code",
   "execution_count": 8,
   "metadata": {},
   "outputs": [
    {
     "name": "stderr",
     "output_type": "stream",
     "text": [
      "2025-02-12 12:31:13,443 - INFO: Generating 10000 scattering matrices. 0 already exist in the file.\n",
      "Writing Scattering Matrices to HDF5 file: 100%|██████████| 10000/10000 [02:10<00:00, 76.39it/s]\n",
      "2025-02-12 12:33:24,824 - INFO: Scattering matrix ensemble generation complete.\n"
     ]
    }
   ],
   "source": [
    "generate_scattering_ensemble(hdf5_filename=hdf5_filename,\n",
    "                             total_tasks=total_tasks,\n",
    "                             k0=k0,\n",
    "                             matrix_type=matrix_type,\n",
    "                             network_config=network_config,\n",
    "                             num_workers=num_workers)"
   ]
  },
  {
   "cell_type": "markdown",
   "metadata": {},
   "source": [
    "If the same file name exists in the specified directory, the code prompts the user to delete the file or write above the existing file. \n",
    "Writing over the existing files skips over the matrices that were already generated \n"
   ]
  },
  {
   "cell_type": "code",
   "execution_count": 4,
   "metadata": {},
   "outputs": [
    {
     "name": "stderr",
     "output_type": "stream",
     "text": [
      "2025-02-12 10:31:09,259 - WARNING: File scattering_ensemble.h5 already exists. Do you want to delete it? or write on it?\n",
      "2025-02-12 10:31:11,726 - INFO: Writing on file scattering_ensemble.h5.\n",
      "2025-02-12 10:31:11,728 - INFO: Generating 0 scattering matrices. 1000 already exist in the file.\n",
      "Writing Scattering Matrices to HDF5 file: 0it [00:00, ?it/s]\n",
      "2025-02-12 10:31:12,012 - INFO: Scattering matrix ensemble generation complete.\n"
     ]
    }
   ],
   "source": [
    "generate_scattering_ensemble(hdf5_filename=hdf5_filename,\n",
    "                             total_tasks=total_tasks,\n",
    "                             k0=k0,\n",
    "                             matrix_type=matrix_type,\n",
    "                             network_config=network_config,\n",
    "                             num_workers=num_workers)"
   ]
  },
  {
   "cell_type": "markdown",
   "metadata": {},
   "source": [
    "If we have a different matrix type, it will write to the same file, but under a different group"
   ]
  },
  {
   "cell_type": "code",
   "execution_count": 9,
   "metadata": {},
   "outputs": [
    {
     "name": "stderr",
     "output_type": "stream",
     "text": [
      "2025-02-12 12:33:24,843 - WARNING: File scattering_ensemble_del_circ_30_10.h5 already exists. Do you want to delete it? or write on it?\n",
      "2025-02-12 13:21:16,511 - INFO: Writing on file scattering_ensemble_del_circ_30_10.h5.\n",
      "2025-02-12 13:21:16,564 - INFO: Generating 10000 scattering matrices. 0 already exist in the file.\n",
      "Writing Scattering Matrices to HDF5 file: 100%|██████████| 10000/10000 [03:55<00:00, 42.38it/s]\n",
      "2025-02-12 13:25:12,897 - INFO: Scattering matrix ensemble generation complete.\n"
     ]
    }
   ],
   "source": [
    "matrix_type = 'ie'\n",
    "generate_scattering_ensemble(hdf5_filename=hdf5_filename,\n",
    "                             total_tasks=total_tasks,\n",
    "                             k0=k0,\n",
    "                             matrix_type=matrix_type,\n",
    "                             network_config=network_config,\n",
    "                             num_workers=num_workers)"
   ]
  }
 ],
 "metadata": {
  "kernelspec": {
   "display_name": "con",
   "language": "python",
   "name": "python3"
  },
  "language_info": {
   "codemirror_mode": {
    "name": "ipython",
    "version": 3
   },
   "file_extension": ".py",
   "mimetype": "text/x-python",
   "name": "python",
   "nbconvert_exporter": "python",
   "pygments_lexer": "ipython3",
   "version": "3.13.1"
  }
 },
 "nbformat": 4,
 "nbformat_minor": 2
}
