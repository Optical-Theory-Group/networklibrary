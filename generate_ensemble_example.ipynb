{
 "cells": [
  {
   "cell_type": "markdown",
   "metadata": {},
   "source": [
    "This example book will show how to run the generate ensemble function to generate the scattering matrices and write them a hdf5 file"
   ]
  },
  {
   "cell_type": "code",
   "execution_count": 1,
   "metadata": {},
   "outputs": [],
   "source": [
    "# Importing the necessary libraries\n",
    "from complex_network.networks.network_spec import NetworkSpec\n",
    "from complex_network.networks.network_factory import generate_network\n",
    "\n",
    "# Importing the scattering ensemble function\n",
    "from complex_network.scattering_ensemble import generate_scattering_ensemble"
   ]
  },
  {
   "cell_type": "code",
   "execution_count": 6,
   "metadata": {},
   "outputs": [],
   "source": [
    "# define the network parameters using the network spec data class\n",
    "network_type = 'delaunay'\n",
    "network_shape = 'circular'\n",
    "random_seed = 0\n",
    "num_internal_nodes = 60\n",
    "num_external_nodes = 20\n",
    "num_seed_nodes = None\n",
    "network_size = 200e-6\n",
    "external_size = 250e-6\n",
    "external_offset = 0.0\n",
    "network_spec = NetworkSpec(network_type=network_type,\n",
    "                           network_shape=network_shape,\n",
    "                           random_seed=random_seed,\n",
    "                           num_internal_nodes=num_internal_nodes,\n",
    "                           num_external_nodes=num_external_nodes,\n",
    "                           num_seed_nodes=num_seed_nodes,\n",
    "                           network_size=network_size,\n",
    "                           external_size=external_size,\n",
    "                           external_offset=external_offset)"
   ]
  },
  {
   "cell_type": "code",
   "execution_count": 11,
   "metadata": {},
   "outputs": [
    {
     "name": "stderr",
     "output_type": "stream",
     "text": [
      "100%|██████████| 10000/10000 [08:47<00:00, 18.95it/s]\n"
     ]
    }
   ],
   "source": [
    "import numpy as np\n",
    "from tqdm import tqdm\n",
    "for i in tqdm(range(10000)):\n",
    "    network_type = 'delaunay'\n",
    "    network_shape = 'circular'\n",
    "    random_seed = 0\n",
    "    num_internal_nodes = 60\n",
    "    num_external_nodes = 20\n",
    "    num_seed_nodes = None\n",
    "    network_size = 200e-6\n",
    "    external_size = 250e-6\n",
    "    external_offset = 0.0\n",
    "    network_spec = NetworkSpec(network_type=network_type,\n",
    "                            network_shape=network_shape,\n",
    "                            random_seed=random_seed,\n",
    "                            num_internal_nodes=num_internal_nodes,\n",
    "                            num_external_nodes=num_external_nodes,\n",
    "                            num_seed_nodes=num_seed_nodes,\n",
    "                            network_size=network_size,\n",
    "                            external_size=external_size,\n",
    "                            external_offset=external_offset)\n",
    "    network = generate_network(network_spec)\n",
    "    a = network.get_S_ee(1.0)\n",
    "    np.save(f'test/seed={i}.npy', a)"
   ]
  },
  {
   "cell_type": "code",
   "execution_count": 3,
   "metadata": {},
   "outputs": [],
   "source": [
    "# We can generate the ensemble of scatetring matrices and write them to a hdf5 file using the scattering ensemble function\n",
    "hdf5_filename = f'/home/baruva/Scattering_Data/scattering_ensemble11_{network_type[0:3]}_{network_shape[0:4]}_{num_internal_nodes}_{num_external_nodes}.h5'\n",
    "# name of the hdf5 file to write the scattering matrices to\n",
    "total_tasks = 10000                         # number of scattering matrices to generate\n",
    "k0 = 1.0                                   # wavenumber of the incident field\n",
    "matrix_type = 'ee'                         # type of scattering matrix to generate (ee, ei or full)\n",
    "network_config = network_spec              # network configuration to use\n",
    "num_workers = None                         # number of workers to use for parallel processing (None uses all available cores)"
   ]
  },
  {
   "cell_type": "code",
   "execution_count": 4,
   "metadata": {},
   "outputs": [
    {
     "name": "stderr",
     "output_type": "stream",
     "text": [
      "2025-02-15 17:58:02,785 - INFO: Generating 10000 matrices. 0 already exist.\n",
      "Processing: 100%|██████████| 10000/10000 [09:42<00:00, 17.17it/s]\n",
      "2025-02-15 18:07:45,384 - INFO: Ensemble generation complete.\n"
     ]
    }
   ],
   "source": [
    "generate_scattering_ensemble(hdf5_filename=hdf5_filename,\n",
    "                             total_tasks=total_tasks,\n",
    "                             k0=k0,\n",
    "                             matrix_type=matrix_type,\n",
    "                             network_config=network_config,\n",
    "                             num_workers=num_workers)"
   ]
  },
  {
   "cell_type": "markdown",
   "metadata": {},
   "source": [
    "If the same file name exists in the specified directory, the code prompts the user to delete the file or write above the existing file. \n",
    "Writing over the existing files skips over the matrices that were already generated \n"
   ]
  },
  {
   "cell_type": "code",
   "execution_count": 4,
   "metadata": {},
   "outputs": [
    {
     "name": "stderr",
     "output_type": "stream",
     "text": [
      "2025-02-12 10:31:09,259 - WARNING: File scattering_ensemble.h5 already exists. Do you want to delete it? or write on it?\n",
      "2025-02-12 10:31:11,726 - INFO: Writing on file scattering_ensemble.h5.\n",
      "2025-02-12 10:31:11,728 - INFO: Generating 0 scattering matrices. 1000 already exist in the file.\n",
      "Writing Scattering Matrices to HDF5 file: 0it [00:00, ?it/s]\n",
      "2025-02-12 10:31:12,012 - INFO: Scattering matrix ensemble generation complete.\n"
     ]
    }
   ],
   "source": [
    "generate_scattering_ensemble(hdf5_filename=hdf5_filename,\n",
    "                             total_tasks=total_tasks,\n",
    "                             k0=k0,\n",
    "                             matrix_type=matrix_type,\n",
    "                             network_config=network_config,\n",
    "                             num_workers=num_workers)"
   ]
  },
  {
   "cell_type": "markdown",
   "metadata": {},
   "source": [
    "If we have a different matrix type, it will write to the same file, but under a different group"
   ]
  },
  {
   "cell_type": "code",
   "execution_count": 29,
   "metadata": {},
   "outputs": [
    {
     "name": "stderr",
     "output_type": "stream",
     "text": [
      "2025-02-12 17:38:15,943 - WARNING: File /home/baruva/Sacttering_Data/scattering_ensemble_del_circ_50_20.h5 already exists. Do you want to delete it? or write on it?\n",
      "2025-02-12 17:38:18,461 - INFO: Writing on file /home/baruva/Sacttering_Data/scattering_ensemble_del_circ_50_20.h5.\n",
      "2025-02-12 17:38:18,464 - INFO: Generating 10000 scattering matrices. 0 already exist in the file.\n",
      "Writing Scattering Matrices to HDF5 file: 100%|██████████| 10000/10000 [11:40<00:00, 14.28it/s]\n",
      "2025-02-12 17:49:59,267 - INFO: Scattering matrix ensemble generation complete.\n"
     ]
    }
   ],
   "source": [
    "matrix_type = 'ie'\n",
    "generate_scattering_ensemble(hdf5_filename=hdf5_filename,\n",
    "                             total_tasks=total_tasks,\n",
    "                             k0=k0,\n",
    "                             matrix_type=matrix_type,\n",
    "                             network_config=network_config,\n",
    "                             num_workers=num_workers)"
   ]
  }
 ],
 "metadata": {
  "kernelspec": {
   "display_name": "con",
   "language": "python",
   "name": "python3"
  },
  "language_info": {
   "codemirror_mode": {
    "name": "ipython",
    "version": 3
   },
   "file_extension": ".py",
   "mimetype": "text/x-python",
   "name": "python",
   "nbconvert_exporter": "python",
   "pygments_lexer": "ipython3",
   "version": "3.13.1"
  }
 },
 "nbformat": 4,
 "nbformat_minor": 2
}
