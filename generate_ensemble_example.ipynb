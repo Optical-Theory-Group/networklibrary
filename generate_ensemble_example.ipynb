{
 "cells": [
  {
   "cell_type": "markdown",
   "metadata": {},
   "source": [
    "This example book will show how to run the generate ensemble function to generate the scattering matrices and write them a hdf5 file"
   ]
  },
  {
   "cell_type": "code",
   "execution_count": 7,
   "metadata": {},
   "outputs": [],
   "source": [
    "# Importing the necessary libraries\n",
    "from complex_network.networks.network_spec import NetworkSpec\n",
    "from complex_network.networks.network_factory import generate_network\n",
    "# Importing the scattering ensemble function\n",
    "from complex_network.scattering_ensemble import generate_scattering_ensemble"
   ]
  },
  {
   "cell_type": "code",
   "execution_count": 8,
   "metadata": {},
   "outputs": [],
   "source": [
    "# define the network parameters using the network spec data class\n",
    "network_type = 'delaunay'\n",
    "network_shape = 'circular'\n",
    "random_seed = 0\n",
    "num_internal_nodes = 60\n",
    "num_external_nodes = 20\n",
    "num_seed_nodes = None\n",
    "network_size = 200e-6\n",
    "external_size = 250e-6\n",
    "external_offset = 0.0\n",
    "network_spec = NetworkSpec(network_type=network_type,\n",
    "                           network_shape=network_shape,\n",
    "                           random_seed=random_seed,\n",
    "                           num_internal_nodes=num_internal_nodes,\n",
    "                           num_external_nodes=num_external_nodes,\n",
    "                           num_seed_nodes=num_seed_nodes,\n",
    "                           network_size=network_size,\n",
    "                           external_size=external_size,\n",
    "                           external_offset=external_offset)"
   ]
  },
  {
   "cell_type": "code",
   "execution_count": 9,
   "metadata": {},
   "outputs": [],
   "source": [
    "# We can generate the ensemble of scatetring matrices and write them to a hdf5 file using the scattering ensemble function\n",
    "# hdf5_filename = f'/home/baruva/Scattering_Data/scattering_ensemble_{network_type[0:3]}_{network_shape[0:4]}_{num_internal_nodes}_{num_external_nodes}.h5'\n",
    "hdf5_filename = f'scattering_ensemble.h5'\n",
    "# name of the hdf5 file to write the scattering matrices to\n",
    "total_tasks = 100                          # number of scattering matrices to generate\n",
    "k0 = 1.0                                   # wavenumber of the incident field\n",
    "matrix_type = 'ee'                         # type of scattering matrix to generate (ee, ei or full)\n",
    "network_config = network_spec              # network configuration to use\n",
    "num_workers = None                         # number of workers to use for parallel processing (None uses all available cores)"
   ]
  },
  {
   "cell_type": "code",
   "execution_count": 10,
   "metadata": {},
   "outputs": [
    {
     "name": "stderr",
     "output_type": "stream",
     "text": [
      "2025-02-19 13:56:31,882 - INFO: Generating 100 matrices. 0 already exist.\n",
      "Processing: 100%|██████████| 100/100 [00:05<00:00, 16.93it/s]\n",
      "2025-02-19 13:56:38,002 - INFO: Ensemble generation complete.\n"
     ]
    }
   ],
   "source": [
    "generate_scattering_ensemble(hdf5_filename=hdf5_filename,\n",
    "                             total_tasks=total_tasks,\n",
    "                             k0=k0,\n",
    "                             matrix_type=matrix_type,\n",
    "                             network_config=network_config,\n",
    "                             num_workers=num_workers)"
   ]
  },
  {
   "cell_type": "markdown",
   "metadata": {},
   "source": [
    "If we have a different matrix type, it will write to the same file, but under a different group"
   ]
  },
  {
   "cell_type": "code",
   "execution_count": 11,
   "metadata": {},
   "outputs": [
    {
     "name": "stderr",
     "output_type": "stream",
     "text": [
      "2025-02-19 13:56:38,015 - INFO: Generating 100 matrices. 0 already exist.\n",
      "Processing: 100%|██████████| 100/100 [00:08<00:00, 11.42it/s]\n",
      "2025-02-19 13:56:46,990 - INFO: Ensemble generation complete.\n"
     ]
    }
   ],
   "source": [
    "matrix_type = 'ie'\n",
    "generate_scattering_ensemble(hdf5_filename=hdf5_filename,\n",
    "                             total_tasks=total_tasks,\n",
    "                             k0=k0,\n",
    "                             matrix_type=matrix_type,\n",
    "                             network_config=network_config,\n",
    "                             num_workers=num_workers)"
   ]
  },
  {
   "cell_type": "code",
   "execution_count": 12,
   "metadata": {},
   "outputs": [
    {
     "name": "stdout",
     "output_type": "stream",
     "text": [
      "File attributes: {'external_offset': '0.0', 'external_size': '0.00025', 'fully_connected': 'null', 'material_B': array([1.03961212, 0.23179234, 1.01046945]), 'material_C': array([6.00069867e-03, 2.00179144e-02, 1.03560653e+02]), 'material_default_wave_param': 'k0', 'material_material': 'glass', 'network_shape': '\"circular\"', 'network_size': '0.0002', 'network_type': '\"delaunay\"', 'node_S_mat_params': '{}', 'node_S_mat_type': '\"COE\"', 'num_external_nodes': '20', 'num_internal_nodes': '60', 'num_seed_nodes': '0'}\n"
     ]
    }
   ],
   "source": [
    "# We will look at the all the attributes stored inside the hdf5 file\n",
    "import h5py\n",
    "with h5py.File('scattering_ensemble.h5', 'r') as h5file:\n",
    "    # Get all attributes of the file\n",
    "    file_attributes = dict(h5file.attrs)\n",
    "    print(\"File attributes:\", file_attributes)"
   ]
  }
 ],
 "metadata": {
  "kernelspec": {
   "display_name": "con",
   "language": "python",
   "name": "python3"
  },
  "language_info": {
   "codemirror_mode": {
    "name": "ipython",
    "version": 3
   },
   "file_extension": ".py",
   "mimetype": "text/x-python",
   "name": "python",
   "nbconvert_exporter": "python",
   "pygments_lexer": "ipython3",
   "version": "3.13.1"
  }
 },
 "nbformat": 4,
 "nbformat_minor": 2
}
