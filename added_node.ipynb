{
 "cells": [
  {
   "cell_type": "code",
   "execution_count": null,
   "metadata": {},
   "outputs": [],
   "source": [
    "import os\n",
    "import scipy\n",
    "import copy\n",
    "\n",
    "import matplotlib.pyplot as plt\n",
    "import numpy as np\n",
    "\n",
    "from complex_network.networks import network_factory\n",
    "from complex_network.networks.network_spec import NetworkSpec\n",
    "from complex_network.perturbations.network_perturbator import (\n",
    "    NetworkPerturbator,\n",
    ")\n",
    "from complex_network.perturbations import pole_finder"
   ]
  },
  {
   "cell_type": "code",
   "execution_count": null,
   "metadata": {},
   "outputs": [],
   "source": [
    "# Generate the random network\n",
    "np.random.seed(1)\n",
    "spec = NetworkSpec(\n",
    "    network_type=\"delaunay\",\n",
    "    network_shape=\"circular\",\n",
    "    num_seed_nodes=0,\n",
    "    external_offset=0.0,\n",
    "    num_internal_nodes=15,\n",
    "    num_external_nodes=5,\n",
    "    network_size=500e-6,\n",
    "    external_size=550e-6,\n",
    "    node_S_mat_type=\"COE\",\n",
    "    node_S_mat_params={},\n",
    ")\n",
    "network = network_factory.generate_network(spec)\n",
    "network.draw(show_indices=True)"
   ]
  },
  {
   "cell_type": "code",
   "execution_count": null,
   "metadata": {},
   "outputs": [],
   "source": [
    "# Add the pseudo_node\n",
    "network.add_node_to_link(9, 0.5, 0.0)\n",
    "network.draw(show_indices=True)\n",
    "print(network.get_node(15))"
   ]
  },
  {
   "cell_type": "code",
   "execution_count": null,
   "metadata": {},
   "outputs": [],
   "source": [
    "# Set up perturbator and track a pole\n",
    "perturbator = NetworkPerturbator(network)\n",
    "\n",
    "r_values = np.linspace(0.0, 1.0, 100)\n",
    "node_index = 15\n",
    "\n",
    "pole = 12532230.332102112 - 11.136143180724291j\n",
    "poles, pole_shifts = perturbator.perturb_pseudonode_r_iterative(\n",
    "    pole, node_index, r_values\n",
    ")\n",
    "\n",
    "poles_direct = np.array(poles[\"direct\"])\n",
    "poles_wigner = np.array(poles[\"wigner\"])\n",
    "\n",
    "fig, ax = plt.subplots()\n",
    "ax.plot(np.real(poles_direct), np.imag(poles_direct), color=\"tab:blue\")\n",
    "ax.scatter(np.real(poles_direct), np.imag(poles_direct), color=\"tab:blue\")\n",
    "ax.plot(np.real(poles_wigner), np.imag(poles_wigner), color=\"tab:orange\")\n",
    "ax.scatter(np.real(poles_wigner), np.imag(poles_wigner), color=\"tab:orange\")"
   ]
  },
  {
   "cell_type": "code",
   "execution_count": null,
   "metadata": {},
   "outputs": [],
   "source": [
    "# Get k0_min and k0_max for sweeps\n",
    "left_x = 25 + 1.25322e7\n",
    "right_x = 32 + 1.25322e7\n",
    "bottom_y = -13.0\n",
    "top_y = -9.0\n",
    "k0_min = left_x + 1j * bottom_y\n",
    "k0_max = right_x + 1j * top_y\n",
    "\n",
    "num_points = 100\n",
    "k0_r, k0_i, data = perturbator.perturb_pseudonode_r_sweep(\n",
    "    node_index, num_points, k0_min, k0_max, r_values\n",
    ")"
   ]
  }
 ],
 "metadata": {
  "kernelspec": {
   "display_name": "poles",
   "language": "python",
   "name": "python3"
  },
  "language_info": {
   "codemirror_mode": {
    "name": "ipython",
    "version": 3
   },
   "file_extension": ".py",
   "mimetype": "text/x-python",
   "name": "python",
   "nbconvert_exporter": "python",
   "pygments_lexer": "ipython3",
   "version": "3.12.0"
  }
 },
 "nbformat": 4,
 "nbformat_minor": 2
}
