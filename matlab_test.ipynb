{
 "cells": [
  {
   "cell_type": "code",
   "execution_count": 1,
   "metadata": {},
   "outputs": [],
   "source": []
  },
  {
   "cell_type": "code",
   "execution_count": 2,
   "metadata": {},
   "outputs": [
    {
     "data": {
      "text/plain": [
       "'.:/home/nbyrnes/.conda/envs/network/lib/python3.12/site-packages/oct2py:/home/nbyrnes/.conda/envs/network/lib/python3.12/site-packages/octave_kernel:/usr/lib/x86_64-linux-gnu/octave/6.4.0/site/oct/x86_64-pc-linux-gnu:/usr/lib/x86_64-linux-gnu/octave/site/oct/api-v56/x86_64-pc-linux-gnu:/usr/lib/x86_64-linux-gnu/octave/site/oct/x86_64-pc-linux-gnu:/usr/share/octave/6.4.0/site/m:/usr/share/octave/site/api-v56/m:/usr/share/octave/site/m:/usr/share/octave/site/m/startup:/usr/lib/x86_64-linux-gnu/octave/6.4.0/oct/x86_64-pc-linux-gnu:/usr/share/octave/6.4.0/m:/usr/share/octave/6.4.0/m/audio:/usr/share/octave/6.4.0/m/deprecated:/usr/share/octave/6.4.0/m/elfun:/usr/share/octave/6.4.0/m/general:/usr/share/octave/6.4.0/m/geometry:/usr/share/octave/6.4.0/m/gui:/usr/share/octave/6.4.0/m/help:/usr/share/octave/6.4.0/m/image:/usr/share/octave/6.4.0/m/io:/usr/share/octave/6.4.0/m/java:/usr/share/octave/6.4.0/m/legacy:/usr/share/octave/6.4.0/m/linear-algebra:/usr/share/octave/6.4.0/m/miscellaneous:/usr/share/octave/6.4.0/m/ode:/usr/share/octave/6.4.0/m/optimization:/usr/share/octave/6.4.0/m/path:/usr/share/octave/6.4.0/m/pkg:/usr/share/octave/6.4.0/m/plot:/usr/share/octave/6.4.0/m/plot/appearance:/usr/share/octave/6.4.0/m/plot/draw:/usr/share/octave/6.4.0/m/plot/util:/usr/share/octave/6.4.0/m/polynomial:/usr/share/octave/6.4.0/m/prefs:/usr/share/octave/6.4.0/m/profiler:/usr/share/octave/6.4.0/m/set:/usr/share/octave/6.4.0/m/signal:/usr/share/octave/6.4.0/m/sparse:/usr/share/octave/6.4.0/m/specfun:/usr/share/octave/6.4.0/m/special-matrix:/usr/share/octave/6.4.0/m/startup:/usr/share/octave/6.4.0/m/statistics:/usr/share/octave/6.4.0/m/strings:/usr/share/octave/6.4.0/m/testfun:/usr/share/octave/6.4.0/m/time:/usr/share/octave/6.4.0/m/web:/usr/share/octave/6.4.0/data'"
      ]
     },
     "execution_count": 2,
     "metadata": {},
     "output_type": "execute_result"
    }
   ],
   "source": []
  },
  {
   "cell_type": "code",
   "execution_count": 8,
   "metadata": {},
   "outputs": [
    {
     "name": "stdout",
     "output_type": "stream",
     "text": [
      "rp = 0.2\n",
      "rs = -0.2\n",
      "tp = 0.8\n",
      "ts = 0.8\n"
     ]
    }
   ],
   "source": [
    "# Fresnel coeffs for an air-glass interface\n",
    "n_1 = 1.0\n",
    "n_2 = 1.5\n",
    "kz_norm = 1.0\n",
    "\n",
    "rp, rs, tp, ts = oc.fresnel_coeffs(\n",
    "    kz_norm * n_1, kz_norm * n_2, n_1, n_2, nout=4\n",
    ")\n",
    "print(f\"rp = {rp:.2f}\")\n",
    "print(f\"rs = {rs:.2f}\")\n",
    "print(f\"tp = {tp:.2f}\")\n",
    "print(f\"ts = {ts:.2f}\")"
   ]
  },
  {
   "cell_type": "code",
   "execution_count": 9,
   "metadata": {},
   "outputs": [
    {
     "name": "stdout",
     "output_type": "stream",
     "text": [
      "rp = 0.20\n",
      "rs = -0.20\n",
      "tp = 0.80\n",
      "ts = 0.80\n"
     ]
    }
   ],
   "source": [
    "# Transfer matrix method for an air-glass interface\n",
    "n = np.array([1.0, 1.5])\n",
    "L = np.array([0, 0])\n",
    "\n",
    "wavelength = 500e-9\n",
    "k0 = 2 * np.pi / wavelength\n",
    "KR = 0.0\n",
    "\n",
    "R1NS, R1NP, T1NS, T1NP = oc.calc_fresnel_multilayer(n, L, k0, KR, nout=4)\n",
    "print(f\"rp = {R1NP:.2f}\")\n",
    "print(f\"rs = {R1NS:.2f}\")\n",
    "print(f\"tp = {T1NP:.2f}\")\n",
    "print(f\"ts = {T1NS:.2f}\")"
   ]
  },
  {
   "cell_type": "code",
   "execution_count": 15,
   "metadata": {},
   "outputs": [
    {
     "name": "stdout",
     "output_type": "stream",
     "text": [
      "rp = 0.07+0.15j\n",
      "rs = -0.07-0.15j\n",
      "tp = 0.90-0.41j\n",
      "ts = 0.90-0.41j\n"
     ]
    }
   ],
   "source": [
    "# Transfer matrix method for an air-glass-air system\n",
    "n = np.array([1.0, 1.53817563567823659721627856798, 1.0])\n",
    "L = np.array([0, 1.044026992682396859e-2, 0])\n",
    "\n",
    "wavelength = 500e-9\n",
    "k0 = 2 * np.pi / wavelength\n",
    "KR = 0.0\n",
    "\n",
    "R1NS, R1NP, T1NS, T1NP = oc.calc_fresnel_multilayer(n, L, k0, KR, nout=4)\n",
    "print(f\"rp = {R1NP:.2f}\")\n",
    "print(f\"rs = {R1NS:.2f}\")\n",
    "print(f\"tp = {T1NP:.2f}\")\n",
    "print(f\"ts = {T1NS:.2f}\")"
   ]
  },
  {
   "cell_type": "code",
   "execution_count": null,
   "metadata": {},
   "outputs": [],
   "source": []
  }
 ],
 "metadata": {
  "kernelspec": {
   "display_name": "network",
   "language": "python",
   "name": "python3"
  },
  "language_info": {
   "codemirror_mode": {
    "name": "ipython",
    "version": 3
   },
   "file_extension": ".py",
   "mimetype": "text/x-python",
   "name": "python",
   "nbconvert_exporter": "python",
   "pygments_lexer": "ipython3",
   "version": "3.12.3"
  }
 },
 "nbformat": 4,
 "nbformat_minor": 2
}
