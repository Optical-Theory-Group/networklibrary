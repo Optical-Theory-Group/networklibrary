{
 "cells": [
  {
   "cell_type": "code",
   "execution_count": 1,
   "metadata": {},
   "outputs": [],
   "source": [
    "import numpy as np\n",
    "import scipy\n",
    "import matplotlib.pyplot as plt\n",
    "from complex_network.networks import pole_calculator"
   ]
  },
  {
   "cell_type": "code",
   "execution_count": 13,
   "metadata": {},
   "outputs": [
    {
     "name": "stdout",
     "output_type": "stream",
     "text": [
      "[[ 3.99999965e+00+1.07691633e-14j  7.04833109e-09-1.30104261e-18j]\n",
      " [ 9.77261526e-10+1.57209315e-18j -1.00000001e+00-5.09575021e-18j]]\n"
     ]
    }
   ],
   "source": [
    "def f(z: complex) -> complex:\n",
    "    return np.array(\n",
    "        [\n",
    "            [1 / z**3 + 2 / z**2 + 4 / z + 5 + 6 * z, np.cos(z)],\n",
    "            [np.sin(z) / z, -1 / (z * (1 - z))],\n",
    "        ]\n",
    "    )\n",
    "\n",
    "\n",
    "pole = 0\n",
    "res = pole_calculator.get_residue(f, pole)\n",
    "print(res)"
   ]
  },
  {
   "cell_type": "code",
   "execution_count": null,
   "metadata": {},
   "outputs": [],
   "source": []
  }
 ],
 "metadata": {
  "kernelspec": {
   "display_name": "network",
   "language": "python",
   "name": "python3"
  },
  "language_info": {
   "codemirror_mode": {
    "name": "ipython",
    "version": 3
   },
   "file_extension": ".py",
   "mimetype": "text/x-python",
   "name": "python",
   "nbconvert_exporter": "python",
   "pygments_lexer": "ipython3",
   "version": "3.12.0"
  }
 },
 "nbformat": 4,
 "nbformat_minor": 2
}
