{
 "cells": [
  {
   "cell_type": "code",
   "execution_count": 6,
   "metadata": {},
   "outputs": [],
   "source": [
    "import numpy as np\n",
    "import matplotlib.pyplot as plt\n",
    "import itertools\n",
    "\n",
    "import functools\n",
    "from work.ws_paper.multilayer.matlab_code import multilayer\n",
    "from work.ws_paper.multilayer import utils"
   ]
  },
  {
   "cell_type": "code",
   "execution_count": 7,
   "metadata": {},
   "outputs": [],
   "source": [
    "# Define physical parameters for the fiber Bragg grating\n",
    "num_layers = 10\n",
    "\n",
    "n_1 = 1.45\n",
    "n_2 = 1.48\n",
    "n_section = [n_1, n_2]\n",
    "n = [1.0] + num_layers * n_section + [1.0]\n",
    "\n",
    "L_layer = 1e-3\n",
    "L_section = [L_layer, L_layer]\n",
    "L = [0.0] + num_layers * L_section + [0.0]"
   ]
  },
  {
   "cell_type": "code",
   "execution_count": 8,
   "metadata": {},
   "outputs": [],
   "source": [
    "# S matrix function (and inverse)\n",
    "get_S = functools.partial(multilayer.get_S, n=n, L=L)\n",
    "get_S_inv = functools.partial(multilayer.get_S_inv, n=n, L=L)"
   ]
  },
  {
   "cell_type": "code",
   "execution_count": 9,
   "metadata": {},
   "outputs": [
    {
     "name": "stderr",
     "output_type": "stream",
     "text": [
      "  0%|          | 0/1000 [00:00<?, ?it/s]"
     ]
    },
    {
     "name": "stdout",
     "output_type": "stream",
     "text": [
      "\n"
     ]
    },
    {
     "name": "stderr",
     "output_type": "stream",
     "text": [
      "                                        \r"
     ]
    },
    {
     "ename": "TypeError",
     "evalue": "cannot unpack non-iterable NoneType object",
     "output_type": "error",
     "traceback": [
      "\u001b[0;31m---------------------------------------------------------------------------\u001b[0m",
      "\u001b[0;31mTypeError\u001b[0m                                 Traceback (most recent call last)",
      "Cell \u001b[0;32mIn[9], line 11\u001b[0m\n\u001b[1;32m      8\u001b[0m k0_max \u001b[38;5;241m=\u001b[39m \u001b[38;5;241m2\u001b[39m \u001b[38;5;241m*\u001b[39m np\u001b[38;5;241m.\u001b[39mpi \u001b[38;5;241m/\u001b[39m lam_min \u001b[38;5;241m+\u001b[39m \u001b[38;5;241m0\u001b[39mj\n\u001b[1;32m      9\u001b[0m num_points \u001b[38;5;241m=\u001b[39m \u001b[38;5;241m1\u001b[39m \u001b[38;5;241m*\u001b[39m \u001b[38;5;241m10\u001b[39m\u001b[38;5;241m*\u001b[39m\u001b[38;5;241m*\u001b[39m\u001b[38;5;241m3\u001b[39m\n\u001b[0;32m---> 11\u001b[0m x, y, data \u001b[38;5;241m=\u001b[39m \u001b[43mutils\u001b[49m\u001b[38;5;241;43m.\u001b[39;49m\u001b[43msweep\u001b[49m\u001b[43m(\u001b[49m\u001b[43mk0_min\u001b[49m\u001b[43m,\u001b[49m\u001b[43m \u001b[49m\u001b[43mk0_max\u001b[49m\u001b[43m,\u001b[49m\u001b[43m \u001b[49m\u001b[43mnum_points\u001b[49m\u001b[43m,\u001b[49m\u001b[43m \u001b[49m\u001b[43mget_S_inv\u001b[49m\u001b[43m)\u001b[49m\n",
      "File \u001b[0;32m~/Code/networklibrary/work/ws_paper/multilayer/utils.py:35\u001b[0m, in \u001b[0;36msweep\u001b[0;34m(k0_min, k0_max, num_points, get_S_inv)\u001b[0m\n\u001b[1;32m     33\u001b[0m     \u001b[38;5;28;01mfor\u001b[39;00m j \u001b[38;5;129;01min\u001b[39;00m tqdm(\u001b[38;5;28mrange\u001b[39m(\u001b[38;5;28mlen\u001b[39m(k0_imags)), leave\u001b[38;5;241m=\u001b[39m\u001b[38;5;28;01mFalse\u001b[39;00m):\n\u001b[1;32m     34\u001b[0m         k0 \u001b[38;5;241m=\u001b[39m k0_r[i, j] \u001b[38;5;241m+\u001b[39m \u001b[38;5;241m1\u001b[39mj \u001b[38;5;241m*\u001b[39m k0_i[i, j]\n\u001b[0;32m---> 35\u001b[0m         new_data \u001b[38;5;241m=\u001b[39m np\u001b[38;5;241m.\u001b[39mabs(np\u001b[38;5;241m.\u001b[39mlinalg\u001b[38;5;241m.\u001b[39mdet(\u001b[43mget_S_inv\u001b[49m\u001b[43m(\u001b[49m\u001b[43mk0\u001b[49m\u001b[43m)\u001b[49m))\n\u001b[1;32m     36\u001b[0m         data[i, j] \u001b[38;5;241m=\u001b[39m new_data\n\u001b[1;32m     38\u001b[0m \u001b[38;5;28;01mreturn\u001b[39;00m k0_r, k0_i, data\n",
      "File \u001b[0;32m~/Code/networklibrary/work/ws_paper/multilayer/matlab_code/multilayer.py:25\u001b[0m, in \u001b[0;36mget_S_inv\u001b[0;34m(k0, n, L)\u001b[0m\n\u001b[1;32m     23\u001b[0m \u001b[38;5;28;01mdef\u001b[39;00m \u001b[38;5;21mget_S_inv\u001b[39m(k0: \u001b[38;5;28mfloat\u001b[39m \u001b[38;5;241m|\u001b[39m \u001b[38;5;28mcomplex\u001b[39m, n: np\u001b[38;5;241m.\u001b[39mndarray, L: np\u001b[38;5;241m.\u001b[39mndarray) \u001b[38;5;241m-\u001b[39m\u001b[38;5;241m>\u001b[39m np\u001b[38;5;241m.\u001b[39mndarray:\n\u001b[1;32m     24\u001b[0m \u001b[38;5;250m    \u001b[39m\u001b[38;5;124;03m\"\"\"Return the inverse scattering matrix for a multilayer system\"\"\"\u001b[39;00m\n\u001b[0;32m---> 25\u001b[0m     S \u001b[38;5;241m=\u001b[39m \u001b[43mget_S\u001b[49m\u001b[43m(\u001b[49m\u001b[43mk0\u001b[49m\u001b[43m,\u001b[49m\u001b[43m \u001b[49m\u001b[43mn\u001b[49m\u001b[43m,\u001b[49m\u001b[43m \u001b[49m\u001b[43mL\u001b[49m\u001b[43m)\u001b[49m\n\u001b[1;32m     26\u001b[0m     \u001b[38;5;28;01mreturn\u001b[39;00m np\u001b[38;5;241m.\u001b[39mlinalg\u001b[38;5;241m.\u001b[39minv(S)\n",
      "File \u001b[0;32m~/Code/networklibrary/work/ws_paper/multilayer/matlab_code/multilayer.py:18\u001b[0m, in \u001b[0;36mget_S\u001b[0;34m(k0, n, L)\u001b[0m\n\u001b[1;32m     16\u001b[0m \u001b[38;5;28;01mdef\u001b[39;00m \u001b[38;5;21mget_S\u001b[39m(k0: \u001b[38;5;28mfloat\u001b[39m \u001b[38;5;241m|\u001b[39m \u001b[38;5;28mcomplex\u001b[39m, n: np\u001b[38;5;241m.\u001b[39mndarray, L: np\u001b[38;5;241m.\u001b[39mndarray) \u001b[38;5;241m-\u001b[39m\u001b[38;5;241m>\u001b[39m np\u001b[38;5;241m.\u001b[39mndarray:\n\u001b[1;32m     17\u001b[0m \u001b[38;5;250m    \u001b[39m\u001b[38;5;124;03m\"\"\"Return the scattering matrix for a multilayer system\"\"\"\u001b[39;00m\n\u001b[0;32m---> 18\u001b[0m     R1NS, _, T1NS, _ \u001b[38;5;241m=\u001b[39m oc\u001b[38;5;241m.\u001b[39mcalc_fresnel_multilayer(n, L, k0, \u001b[38;5;241m0.0\u001b[39m, nout\u001b[38;5;241m=\u001b[39m\u001b[38;5;241m4\u001b[39m)\n\u001b[1;32m     19\u001b[0m     S \u001b[38;5;241m=\u001b[39m np\u001b[38;5;241m.\u001b[39marray([[R1NS, T1NS], [T1NS, R1NS]], dtype\u001b[38;5;241m=\u001b[39mnp\u001b[38;5;241m.\u001b[39mcomplex128)\n\u001b[1;32m     20\u001b[0m     \u001b[38;5;28;01mreturn\u001b[39;00m S\n",
      "\u001b[0;31mTypeError\u001b[0m: cannot unpack non-iterable NoneType object"
     ]
    }
   ],
   "source": [
    "# Sweep to look for poles\n",
    "Dlam = 2.5e-10\n",
    "lam_centre = 550e-9\n",
    "lam_min = lam_centre - Dlam\n",
    "lam_max = lam_centre + Dlam\n",
    "\n",
    "k0_min = 2 * np.pi / lam_max - 400j\n",
    "k0_max = 2 * np.pi / lam_min + 0j\n",
    "num_points = 1 * 10**3\n",
    "\n",
    "x, y, data = utils.sweep(k0_min, k0_max, num_points, get_S_inv)"
   ]
  },
  {
   "cell_type": "code",
   "execution_count": null,
   "metadata": {},
   "outputs": [
    {
     "data": {
      "image/png": "[encoded data removed]",
      "text/plain": [
       "<Figure size 640x480 with 1 Axes>"
      ]
     },
     "metadata": {},
     "output_type": "display_data"
    }
   ],
   "source": [
    "fig, ax = plt.subplots()\n",
    "im = ax.imshow(\n",
    "    -np.log(data),\n",
    "    extent=(k0_min.real, k0_max.real, 0.0, -400),\n",
    "    aspect=\"auto\",\n",
    ")\n"
   ]
  },
  {
   "cell_type": "code",
   "execution_count": null,
   "metadata": {},
   "outputs": [],
   "source": []
  }
 ],
 "metadata": {
  "kernelspec": {
   "display_name": "network",
   "language": "python",
   "name": "python3"
  },
  "language_info": {
   "codemirror_mode": {
    "name": "ipython",
    "version": 3
   },
   "file_extension": ".py",
   "mimetype": "text/x-python",
   "name": "python",
   "nbconvert_exporter": "python",
   "pygments_lexer": "ipython3",
   "version": "3.12.3"
  }
 },
 "nbformat": 4,
 "nbformat_minor": 2
}
